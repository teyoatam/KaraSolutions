{
 "cells": [
  {
   "cell_type": "code",
   "execution_count": 4,
   "metadata": {},
   "outputs": [],
   "source": [
    "import os\n",
    "from telethon.sync import TelegramClient\n",
    "from telethon.tl.types import InputMessagesFilterPhotos\n",
    "import csv\n",
    "\n",
    "from datetime import datetime, timezone"
   ]
  },
  {
   "cell_type": "code",
   "execution_count": 5,
   "metadata": {},
   "outputs": [],
   "source": [
    "\n",
    "# Configuration\n",
    "api_id = '26559639'\n",
    "api_hash = '3299ed6b2b0cbd2243470f18e1a77272'\n",
    "phone = '+251984956023'  # Corrected: Phone number must be a string with quotes\n",
    "\n",
    "\n",
    "# Load environment variables\n",
    "#load_dotenv()\n",
    "\n",
    "# Directory to save images\n",
    "CSV_FILE = 'imageoflobeli.csv' \n",
    "SAVE_DIR = 'telegram_images'"
   ]
  },
  {
   "cell_type": "code",
   "execution_count": 6,
   "metadata": {},
   "outputs": [],
   "source": [
    "\n",
    "# Create save directory if it doesn't exist\n",
    "os.makedirs(SAVE_DIR, exist_ok=True)\n",
    "\n",
    "# Connect to Telegram\n",
    "client = TelegramClient(phone, api_id, api_hash)\n",
    "\n",
    "# Function to download images\n",
    "async def download_images(channel, start_date=None, end_date=None, max_images=None):\n",
    "    image_count = 0\n",
    "    downloaded_images = []  # List to hold details of downloaded images\n",
    "\n",
    "    async for message in client.iter_messages(channel, filter=InputMessagesFilterPhotos):\n",
    "        message_date = message.date.replace(tzinfo=timezone.utc)  # Make message date timezone aware\n",
    "        if (start_date and message_date < start_date) or (end_date and message_date > end_date):\n",
    "            continue\n",
    "        if max_images and image_count >= max_images:\n",
    "            break\n",
    "\n",
    "        # Download the photo\n",
    "        file_path = os.path.join(SAVE_DIR, f'{message.id}.jpg')\n",
    "        await client.download_media(message.photo, file=file_path)\n",
    "        \n",
    "        # Append details to the list\n",
    "        downloaded_images.append({\n",
    "            'message_id': message.id,\n",
    "            'file_path': file_path,\n",
    "            'date': message_date.isoformat(),\n",
    "            'caption': message.caption or ''\n",
    "        })\n",
    "        \n",
    "        image_count += 1\n",
    "\n",
    "    # Save details to CSV\n",
    "    save_to_csv(downloaded_images)\n",
    "\n",
    "def save_to_csv(data):\n",
    "    with open(CSV_FILE, mode='w', newline='', encoding='utf-8') as file:\n",
    "        writer = csv.DictWriter(file, fieldnames=['message_id', 'file_path', 'date', 'caption'])\n",
    "        writer.writeheader()\n",
    "        writer.writerows(data)\n",
    "\n",
    "async def main():\n",
    "    channel_name = 'lobelia4cosmetics'\n",
    "    await download_images(\n",
    "        channel_name,\n",
    "        start_date=datetime(2024, 4, 1, tzinfo=timezone.utc),\n",
    "        end_date=datetime(2024, 6, 10, tzinfo=timezone.utc),\n",
    "        max_images=100\n",
    "    )\n",
    "\n",
    "# Start the client\n",
    "async with client:\n",
    "    await main()"
   ]
  }
 ],
 "metadata": {
  "kernelspec": {
   "display_name": "Python 3",
   "language": "python",
   "name": "python3"
  },
  "language_info": {
   "codemirror_mode": {
    "name": "ipython",
    "version": 3
   },
   "file_extension": ".py",
   "mimetype": "text/x-python",
   "name": "python",
   "nbconvert_exporter": "python",
   "pygments_lexer": "ipython3",
   "version": "3.12.5"
  }
 },
 "nbformat": 4,
 "nbformat_minor": 2
}
